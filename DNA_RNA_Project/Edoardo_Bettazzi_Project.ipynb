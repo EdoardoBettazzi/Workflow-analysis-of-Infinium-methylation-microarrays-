{
 "cells": [
  {
   "cell_type": "markdown",
   "id": "56ca60da",
   "metadata": {},
   "source": [
    "#### Edoardo Bettazzi\n",
    "\n",
    "Address: 42639338\n",
    "\n",
    "p-value threshold: 0.05\n",
    "\n",
    "Normalization: preprocessQuantile\n",
    "\n",
    "Statistical test: t-test"
   ]
  },
  {
   "cell_type": "markdown",
   "id": "d6f29757",
   "metadata": {},
   "source": [
    "Please, notice: the version of R currently running on Jupyter notebook is version 3.6. This version, as the associated packages, are out of date with R currently at version 4.2.\n",
    "Regarding the following analysis, this makes no difference, but it is relevant to know. In case a desired package is not available, it is necessary to use a different environment, as RStudio."
   ]
  },
  {
   "cell_type": "markdown",
   "id": "b5d2e782",
   "metadata": {},
   "source": [
    "#### Installing packages, brief description\n",
    "\n",
    "The BiocManager package to install and manage packages from the Bioconductor project for the statistical analysis and comprehension of high-throughput genomic data. To know more about installing and managing Bioconductor packages, visit\n",
    "https://cran.r-project.org/web/packages/BiocManager/vignettes/BiocManager.html\n",
    "\n",
    "The minfi package provides tools for analyzing Illumina’s Methylation arrays, specifically 450K and EPIC. It addresses tasks as preprocessing, QC assessments, identification of interesting methylation loci and plotting functionality.\n",
    "The package takes in input IDAT files, that are representing two different color channels prior to normalization. \n",
    "For a user-friendly guide, either run the command browseVignettes(\"minfi\") or directly visit https://bioconductor.org/packages/devel/bioc/vignettes/minfi/inst/doc/minfi.html.\n",
    "\n",
    "The Illumina 450K Manifest file presents the annotation for the 450K methylation array in the form of a csv file. A description of the columns headings can be found at https://support.illumina.com/bulletins/2016/05/infinium-methylationk-manifest-column-headings.html\n",
    "\n",
    "shinyMethyl is a Bioconductor package for interactive quality control of DNA methylation data from Illumina 450k arrays. The package summarizes 450k experiments into exportable R objects from which an interactive interface is launched. It presents reactive plots for fast and intuitive quality control assessment of the samples. Moreover, exploration of the phenotypic associations is possible through coloring and principal component analysis.\n",
    "For accessing the documentation, run the command browseVignettes(\"shinyMethyl\") or visit https://bioconductor.org/packages/release/bioc/html/shinyMethyl.html\n",
    "\n",
    "factoextra is a package used to extract and visualize the output of exploratory multivariate data analyses, including Principal Component Analysis (PCA), Correspondence Analysis (CA), Multiple Correspondence Analysis (MCA), Multiple Factor Analysis (MFA), Hierarchical Multiple Factor Analysis (HMFA). \n",
    "It contains function for ggplot2-based data visualization, and for the facilitation of clustering analysis.\n",
    "For accessing the documentation, visit https://rpkgs.datanovia.com/factoextra/index.html\n",
    "\n",
    "The qqman package includes functions for creating manhattan plots and q-q plots from GWAS results. For accessing the documentation, visit https://cran.r-project.org/web/packages/qqman/vignettes/qqman.html\n",
    "\n",
    "The gplots package provides various R programming tools for plotting data (reference: https://cran.r-project.org/web/packages/gplots/index.html)."
   ]
  },
  {
   "cell_type": "code",
   "execution_count": null,
   "id": "4f772856",
   "metadata": {},
   "outputs": [],
   "source": [
    "# BiocManager\n",
    "if (!require(\"BiocManager\", quietly = TRUE))\n",
    "    install.packages(\"BiocManager\")\n",
    "BiocManager::install(version = \"3.10\")\n",
    "\n",
    "# minfi\n",
    "BiocManager::install(\"minfi\")\n",
    "\n",
    "# Illumina manifest\n",
    "BiocManager::install(\"IlluminaHumanMethylation450kmanifest\")\n",
    "BiocManager::install(\"IlluminaHumanMethylation450kanno.ilmn12.hg19\")\n",
    "\n",
    "# shinyMethyl \n",
    "BiocManager::install(\"shinyMethyl\")\n",
    "\n",
    "# factoextra\n",
    "install.packages(\"factoextra\")\n",
    "\n",
    "# qqman\n",
    "install.packages(\"qqman\")\n",
    "\n",
    "# gplots\n",
    "install.packages(\"gplots\")"
   ]
  },
  {
   "cell_type": "markdown",
   "id": "9797467a",
   "metadata": {},
   "source": [
    "## Step 1. Loading Raw Data\n",
    "\n",
    "In the following step, the working space is prepared: working directory and input data directories are set, the minfi package and the Illumina manifest for the 450K DNA methylation microarray are loaded. Finally, from the input data directory, the methylation sample sheet containing the pheno-data is read through the minfi package function \"read.metharray.sheet(base)\".\n",
    "\n",
    "The minfi package provides tools for analyzing Illumina’s Methylation arrays, specifically 450K and EPIC. It addresses tasks as preprocessing, QC assessments, identification of interesting methylation loci and plotting functionality.\n",
    "The package takes in input IDAT files, that are representing two different color channels prior to normalization. \n",
    "For a user-friendly guide, either run the command browseVignettes(\"minfi\") or directly visit https://bioconductor.org/packages/devel/bioc/vignettes/minfi/inst/doc/minfi.html.\n",
    "\n",
    "The Illumina 450K Manifest file presents the annotation for the 450K methylation array in the form of a csv file. A description of the columns headings can be found at https://support.illumina.com/bulletins/2016/05/infinium-methylationk-manifest-column-headings.html"
   ]
  },
  {
   "cell_type": "code",
   "execution_count": null,
   "id": "a62db03f",
   "metadata": {
    "scrolled": true
   },
   "outputs": [],
   "source": [
    "# Clean workspace\n",
    "rm(list=ls())\n",
    "\n",
    "# get current working directory\n",
    "getwd()\n",
    "\n",
    "# Set desired working directory\n",
    "setwd(\"~/DNA_RNA_Project/working_dir\")\n",
    "\n",
    "# Load minfi package\n",
    "library(minfi)\n",
    "\n",
    "# Load Illumina manifest\n",
    "load(\"~/DNA_RNA_Project/Illumina450Manifest_clean.RData\")\n",
    "\n",
    "# Set input data directory\n",
    "baseDir <- (\"~/DNA_RNA_Project/input_data_report\")\n",
    "\n",
    "# Reading sheet containing pheno-data\n",
    "targets <- read.metharray.sheet(baseDir)"
   ]
  },
  {
   "cell_type": "markdown",
   "id": "d3e0cc5a",
   "metadata": {},
   "source": [
    "The data of the methylation array experiment are read into an RGChannelSet object, stored as the variable RGSet, by the read.metharray.exp() function."
   ]
  },
  {
   "cell_type": "code",
   "execution_count": null,
   "id": "d4c07250",
   "metadata": {},
   "outputs": [],
   "source": [
    "# Reading methylation array data\n",
    "RGset <- read.metharray.exp(targets = targets)\n",
    "\n",
    "# Checking output\n",
    "RGset"
   ]
  },
  {
   "cell_type": "raw",
   "id": "2fbc0f31",
   "metadata": {},
   "source": [
    "class: RGChannelSet \n",
    "dim: 622399 8 \n",
    "metadata(0):\n",
    "assays(2): Green Red\n",
    "rownames(622399): 10600313 10600322 ... 74810490 74810492\n",
    "rowData names(0):\n",
    "colnames(8): 200400320115_R01C01 200400320115_R02C01 ...\n",
    "  200400320115_R04C02 200400320115_R05C02\n",
    "colData names(8): Sample Group ... Basename filenames\n",
    "Annotation\n",
    "  array: IlluminaHumanMethylation450k\n",
    "  annotation: ilmn12.hg19"
   ]
  },
  {
   "cell_type": "markdown",
   "id": "ca37fba9",
   "metadata": {},
   "source": [
    "## Step 2. Separately storing Red and Green Fluorescence\n",
    "\n",
    "A dataframe is created for each of the two channels, Red and Green."
   ]
  },
  {
   "cell_type": "code",
   "execution_count": null,
   "id": "464ea7ab",
   "metadata": {},
   "outputs": [],
   "source": [
    "# Red fluorescence\n",
    "Red <- data.frame(getRed(RGset))\n",
    "\n",
    "# Check df\n",
    "head(Red)\n",
    "\n",
    "# Green fluorescence\n",
    "Green <- data.frame(getGreen(RGset))\n",
    "\n",
    "# Check df\n",
    "head(Green)"
   ]
  },
  {
   "cell_type": "raw",
   "id": "059c5cf5",
   "metadata": {},
   "source": [
    "Red fl. dataframe (addresses on rows, slide arrays on columns) \n",
    "\n",
    "        X200400320115_R01C01 X200400320115_R02C01\n",
    "10600313                  591                  742\n",
    "10600322                 4140                 4154\n",
    "10600328                 6535                 6250\n",
    "10600336                15752                15110\n",
    "10600345                  597                 1027\n",
    "10600353                 1464                 1381\n",
    "         X200400320115_R03C01 X200400320115_R04C01\n",
    "10600313                  613                  577\n",
    "10600322                 4553                 3965\n",
    "10600328                 6223                 6208\n",
    "10600336                16277                15746\n",
    "10600345                  624                  742\n",
    "10600353                 1863                 1593\n",
    "\n",
    "\n",
    "Green fl. dataframe (addresses on rows, slide arrays on columns) \n",
    "\n",
    "         X200400320115_R01C01 X200400320115_R02C01\n",
    "10600313                  289                  390\n",
    "10600322                 7070                 9820\n",
    "10600328                 6421                 7184\n",
    "10600336                 1571                 1467\n",
    "10600345                 5692                 6353\n",
    "10600353                 4280                 4824\n",
    "         X200400320115_R03C01 X200400320115_R04C01\n",
    "10600313                  408                  360\n",
    "10600322                 9225                 8324\n",
    "10600328                 6963                 7171\n",
    "10600336                 1526                 1864\n",
    "10600345                 7518                 6360\n",
    "10600353                 5346                 4373"
   ]
  },
  {
   "cell_type": "markdown",
   "id": "b7d46a9e",
   "metadata": {},
   "source": [
    "## Step 3. Inspecting fluorescence at the address of interest\n",
    "\n",
    "Checking the Red and Green fluorescence values at the address 42639338"
   ]
  },
  {
   "cell_type": "code",
   "execution_count": null,
   "id": "97e11b5d",
   "metadata": {},
   "outputs": [],
   "source": [
    "# Red fluorescence dataframe inspection at \"42639338\"\n",
    "red_address <- Red[rownames(Red)==\"42639338\",]\n",
    "\n",
    "# Red fluorescence dataframe inspection at \"42639338\"\n",
    "green_address <- Green[rownames(Green)==\"42639338\",]\n",
    "\n",
    "# Summary table\n",
    "filled_table <- as.data.frame(cbind(t(red_address),t(green_address),rep(c(\"II\"),each=8)))\n",
    "colnames(filled_table) <- c(\"Red fluor\",\"Green fluor\",\"Type\")\n",
    "filled_table"
   ]
  },
  {
   "cell_type": "raw",
   "id": "035928e8",
   "metadata": {},
   "source": [
    "\n",
    "                     Red fluor Green fluor Type\n",
    "X200400320115_R01C01     18359       10513   II\n",
    "X200400320115_R02C01     18091       12525   II\n",
    "X200400320115_R03C01     18199       12242   II\n",
    "X200400320115_R04C01     17519       13174   II\n",
    "X200400320115_R02C02      1881        4385   II\n",
    "X200400320115_R03C02      2398        2840   II\n",
    "X200400320115_R04C02     15792       11014   II\n",
    "X200400320115_R05C02       157         420   II"
   ]
  },
  {
   "cell_type": "markdown",
   "id": "76c249a9",
   "metadata": {},
   "source": [
    "### Design probe type\n",
    "\n",
    "The design probe type can be verified by inspecting the Illumina manifest presenting the microarray annotations with the address of interest."
   ]
  },
  {
   "cell_type": "code",
   "execution_count": null,
   "id": "668f4889",
   "metadata": {},
   "outputs": [],
   "source": [
    "# Store the address annotation\n",
    "Addr42639338 <- Illumina450Manifest_clean[Illumina450Manifest_clean$AddressA_ID==\"42639338\",]\n",
    "\n",
    "# Check the Infinium design type columns\n",
    "Addr42639338$Infinium_Design_Type"
   ]
  },
  {
   "cell_type": "markdown",
   "id": "1bf21913",
   "metadata": {},
   "source": [
    "The specified address refers to the Infinium design of type II; in case of a type I design, information about the color channel can be retrieved checking Addr[value]$Color_Channel."
   ]
  },
  {
   "cell_type": "markdown",
   "id": "0277c3c4",
   "metadata": {},
   "source": [
    "## Step 4. Converting fluorescence intensity data into methylation signals\n",
    "\n",
    "The RGChannelSet object is processed into a MethylSet object, that cointains the signals of methylation and unmethylation of the analysed data.\n",
    "\n",
    "This is performed via the preprocessRaw() function."
   ]
  },
  {
   "cell_type": "code",
   "execution_count": null,
   "id": "fef413af",
   "metadata": {},
   "outputs": [],
   "source": [
    "# Create MSet.raw object from the RGset object\n",
    "MSet.raw <- preprocessRaw(RGset)\n",
    "\n",
    "# Check output\n",
    "MSet.raw"
   ]
  },
  {
   "cell_type": "raw",
   "id": "44cfcc8a",
   "metadata": {},
   "source": [
    "class: MethylSet \n",
    "dim: 485512 8 \n",
    "metadata(0):\n",
    "assays(2): Meth Unmeth\n",
    "rownames(485512): cg00050873 cg00212031 ... ch.22.47579720R\n",
    "  ch.22.48274842R\n",
    "rowData names(0):\n",
    "colnames(8): 200400320115_R01C01 200400320115_R02C01 ...\n",
    "  200400320115_R04C02 200400320115_R05C02\n",
    "colData names(8): Sample Group ... Basename filenames\n",
    "Annotation\n",
    "  array: IlluminaHumanMethylation450k\n",
    "  annotation: ilmn12.hg19\n",
    "Preprocessing\n",
    "  Method: Raw (no normalization or bg correction)\n",
    "  minfi version: 1.43.0\n",
    "  Manifest version: 0.4.0"
   ]
  },
  {
   "cell_type": "markdown",
   "id": "1793d7bc",
   "metadata": {},
   "source": [
    "## Step 5. Quality control\n",
    "\n",
    "Methylation signal data needs now to be check for good quality; the following steps are performed:\n",
    "\n",
    "1.\tQCplot inspection\n",
    "2.\tNegative controls intensity check\n",
    "3.\tpValues detection\n",
    "\n",
    "\n",
    "for each sample, how many probes have a detection p-value higher than the threshold assigned to each student?\n"
   ]
  },
  {
   "cell_type": "markdown",
   "id": "9b8f918a",
   "metadata": {},
   "source": [
    "### 5.1 QCplot\n",
    "\n",
    "In a QCplot, the medians from the methylation signal and unmethylation signal distributions are plotted. Data of good quality are found at high values of median for both the distributions (that is right and upper part); at contrary, low values of median indicate a lower quality of data.\n",
    "\n",
    "The getQC() function creates a DataFrame with two columns: mMed and uMed which are the chipwide medians of the Meth and Unmeth channels. Through plotQC(), a diagnostic QC plot is produced from this dataframe."
   ]
  },
  {
   "cell_type": "code",
   "execution_count": null,
   "id": "b8eb077d",
   "metadata": {},
   "outputs": [],
   "source": [
    "qc <- getQC(MSet.raw)\n",
    "plotQC(qc)"
   ]
  },
  {
   "attachments": {
    "QCplot.png": {
     "image/png": "[encoded data removed]"
    }
   },
   "cell_type": "markdown",
   "id": "d2a2f343",
   "metadata": {},
   "source": [
    "![QCplot.png](attachment:QCplot.png)\n",
    "The samples seems to be of good quality, as they appear in the upper region of the plot, thus they have high median values for both the methylation and the unmethylation signals."
   ]
  },
  {
   "cell_type": "markdown",
   "id": "6a354ad8",
   "metadata": {},
   "source": [
    "### 5.2 Negative control intensity check\n",
    "\n",
    "The negative controls probes are used to estimate the background intensity of the system.\n",
    "Under normal experimental condition, the intesity values for these probes can vary from 100 up to 1000 units in a sample-depedent way. \n",
    "A dramatic increase of a given sample may indicate poor quality of the DNA template prior to bisulphite conversion.\n",
    "\n",
    "The check is performed through the function controlStripPlot(), that produces strip plots for the specified control probe type (only negative, in this analysis)."
   ]
  },
  {
   "cell_type": "code",
   "execution_count": null,
   "id": "055887c8",
   "metadata": {},
   "outputs": [],
   "source": [
    "# Produce strip plots from the negative controls red and green intesities.\n",
    "controlStripPlot(RGset, controls=\"NEGATIVE\")"
   ]
  },
  {
   "attachments": {
    "Negative_controls.png": {
     "image/png": "[encoded data removed]"
    }
   },
   "cell_type": "markdown",
   "id": "e525672b",
   "metadata": {},
   "source": [
    "![Negative_controls.png](attachment:Negative_controls.png)\n",
    "In this case, the background intensity threshold is set at 10 log2 units: any signal lower than this, is considered of low quality.\n",
    "Regarding the variation of negative controls intensities, it is consistent between the samples, though the Red channel has higher variation and could possibly introduce biases.\n",
    "Sample-wise, it can be said that quality is good with regard to this step."
   ]
  },
  {
   "cell_type": "markdown",
   "id": "37ee949b",
   "metadata": {},
   "source": [
    "### 5.3 Detection of pValues\n",
    "\n",
    "It indicates the probability that the observed signals are distinguishable from the negative control signals, i.e. the background threshold. It operates under the null hypothesis that observed and background signals are equal. Given that, small p-values allow to reject the null hypothesis and so indicate good positions; positions with non-significant p-values can't be trusted and should be filtered out.\n",
    "\n",
    "The function detectionP() identifies failed positions defined as both the methylated and unmethylated channel reporting background signal levels. \n",
    "A detection p-value is returned for every genomic position in every sample, as a matrix with detection p-values.\n",
    "The matrix is then filtered according to the chosen p-value (0.05, in the assignment), to report a summary of the low quality positions.\n"
   ]
  },
  {
   "cell_type": "code",
   "execution_count": null,
   "id": "f946454e",
   "metadata": {},
   "outputs": [],
   "source": [
    "# Detecting\n",
    "detP <- detectionP(RGset)\n",
    "\n",
    "# Filtering\n",
    "failed <- detP>0.05\n",
    "summary(failed)\n",
    "\n",
    "# Summary table\n",
    "sum <- colSums(failed)\n",
    "result_matrix <- as.matrix(sapply(sum,as.numeric))\n",
    "colnames(result_matrix) <- c(\"failed positions\")\n",
    "result_matrix"
   ]
  },
  {
   "cell_type": "raw",
   "id": "0b5a7fc4",
   "metadata": {},
   "source": [
    " 200400320115_R01C01 200400320115_R02C01 200400320115_R03C01\n",
    " Mode :logical       Mode :logical       Mode :logical      \n",
    " FALSE:485467        FALSE:485486        FALSE:485484       \n",
    " TRUE :45            TRUE :26            TRUE :28           \n",
    " 200400320115_R04C01 200400320115_R02C02 200400320115_R03C02\n",
    " Mode :logical       Mode :logical       Mode :logical      \n",
    " FALSE:485480        FALSE:485322        FALSE:485382       \n",
    " TRUE :32            TRUE :190           TRUE :130          \n",
    " 200400320115_R04C02 200400320115_R05C02\n",
    " Mode :logical       Mode :logical      \n",
    " FALSE:485495        FALSE:485106       \n",
    " TRUE :17            TRUE :406  \n",
    " \n",
    " \n",
    "                     failed positions\n",
    "200400320115_R01C01               45\n",
    "200400320115_R02C01               26\n",
    "200400320115_R03C01               28\n",
    "200400320115_R04C01               32\n",
    "200400320115_R02C02              190\n",
    "200400320115_R03C02              130\n",
    "200400320115_R04C02               17\n",
    "200400320115_R05C02              406"
   ]
  },
  {
   "cell_type": "markdown",
   "id": "b3032f7b",
   "metadata": {},
   "source": [
    "## Step 6. Computing raw beta and M values\n",
    "\n",
    "The beta value, computed as $beta = M/(M+U)$ where M stands for Methylation and U for Unmethylation, represents the level of methylation at a given CpG site. It takes values in the range 0 to 1, where 0 indicates absence of methylation and 1 indicates complete methylation of the position.\n",
    "The M value, computed as $log2(M/U)$, is a log ratio of the two signals, thus it takes values $<0$ for low to absent methylation, and values $>0$ for increasingly methylated sites.\n",
    "\n",
    "Comparing the two methods for the differential analysis of methylation levels, it is suggested that the M-value method is statistically more valid (Du et al., 2010), outperforming beta-values in a significant way, but only if the size of the sample is small (Zhuang et al., 2012).\n",
    "A useful heuristic is to use the M-value method on datasets that comprise up to 5 samples, and include beta values in case of a larger dataset. \n",
    "\n",
    "To plot and inspect such values, the dataset of methylation signals is split according to the groups of the experiment (wildtype, WT, and mutated, MUT). For each subset, the beta and M values are extracted using getBeta() and getM(); the mean of the obtained values and its density are computed"
   ]
  },
  {
   "cell_type": "code",
   "execution_count": null,
   "id": "a500943b",
   "metadata": {},
   "outputs": [],
   "source": [
    "# Store separately data from WT samples and MUT samples\n",
    "WT <- targets[targets$Group=='WT',\"Array\"]\n",
    "MUT <- targets[targets$Group=='MUT',\"Array\"]\n",
    "\n",
    "# BETA VALUES\n",
    "# Compute beta values\n",
    "beta <- getBeta(MSet.raw)\n",
    "WT_beta <- beta[, targets$Array %in% WT]\n",
    "MUT_beta <- beta[, targets$Array %in% MUT]\n",
    "\n",
    "# Compute beta values mean and density\n",
    "WT_beta_mean <- apply(WT_beta,1,mean)\n",
    "MUT_beta_mean <- apply(MUT_beta,1,mean)\n",
    "\n",
    "WT_beta_d <- density(WT_beta_mean,na.rm=T)\n",
    "MUT_beta_d <- density(MUT_beta_mean,na.rm=T)\n",
    "\n",
    "# Plot beta values density\n",
    "plot(WT_beta_d, col='red',main='Beta values density')\n",
    "lines(MUT_beta_d,col='blue')\n",
    "legend('topright', pch=c(15,15), col=c('red','blue'), legend=c('WT','MUT'))\n",
    "\n",
    "# M VALUES\n",
    "# Compute M values \n",
    "M <- getM(MSet.raw)\n",
    "WT_M <- M[, targets$Array %in% WT]\n",
    "MUT_M <- M[, targets$Array %in% MUT]\n",
    "\n",
    "# Compute M values mean and density \n",
    "WT_M_mean <- apply(WT_M,1,mean)\n",
    "MUT_M_mean <- apply(MUT_M,1,mean)\n",
    "\n",
    "WT_M_d <- density(WT_M_mean,na.rm=T)\n",
    "MUT_M_d <- density(MUT_M_mean,na.rm=T)\n",
    "\n",
    "# Plot M values density\n",
    "plot(WT_M_d, col='red',main='M values density')\n",
    "lines(MUT_M_d,col='blue')\n",
    "legend('topright', pch=c(15,15), col=c('red','blue'), legend=c('WT','MUT'))"
   ]
  },
  {
   "attachments": {
    "beta_density.png": {
     "image/png": "[encoded data removed]"
    }
   },
   "cell_type": "markdown",
   "id": "65b85fb2",
   "metadata": {},
   "source": [
    "![beta_density.png](attachment:beta_density.png)"
   ]
  },
  {
   "attachments": {
    "m_value_density.png": {
     "image/png": "[encoded data removed]"
    }
   },
   "cell_type": "markdown",
   "id": "6093e728",
   "metadata": {},
   "source": [
    "![m_value_density.png](attachment:m_value_density.png)"
   ]
  },
  {
   "cell_type": "markdown",
   "id": "b4d92a61",
   "metadata": {},
   "source": [
    "Visually inspecting the plots, we can notice similar distributions between the groups, both in the beta values and in the M values analysis. There are noticeable differences, especially in the M values density plot, that might need further focus."
   ]
  },
  {
   "cell_type": "markdown",
   "id": "06442c7c",
   "metadata": {},
   "source": [
    "## Step 7. Normalization\n",
    "\n",
    "The normalization step, for the removal of technical variations and systematic biases from the results, is performed via preprocessQuantile(), that implements a stratified quantile normalization preprocessing procedure. The probes are stratified by region (CpG island, shore, etc). From the ouput, the normalized beta values can be extracted. The normalized values can then be compared with the raw beta values, to visually assess changes in the datasets.\n",
    "\n",
    "The procedure can be used to perform a comparison of raw and normalized beta values between Infinium type I and Infinium type II designs.\n",
    "\n",
    "First, the raw beta values of entire dataset (MSet.raw) are collected, then the normalization procedure is applied to the intensity signals of both Red and Green channels (RGset), from which normalized beta values are extract with the previous getBeta() function."
   ]
  },
  {
   "cell_type": "code",
   "execution_count": null,
   "id": "09a98226",
   "metadata": {},
   "outputs": [],
   "source": [
    "# Raw values (already computed in the previous step)\n",
    "beta\n",
    "\n",
    "# Normalization\n",
    "preprocessQuantile_results <- preprocessQuantile(RGset)\n",
    "\n",
    "# Normalized beta\n",
    "normalized_beta <- getBeta(preprocessQuantile_results)"
   ]
  },
  {
   "cell_type": "markdown",
   "id": "ca0e213f",
   "metadata": {},
   "source": [
    "The raw beta values from a given Infinium design are extracted from the overall dataset values (variable beta) by cross-reference with the annotation data from the Illumina Manifest."
   ]
  },
  {
   "cell_type": "code",
   "execution_count": null,
   "id": "c22dcf97",
   "metadata": {},
   "outputs": [],
   "source": [
    "# INFINIUM I DESIGN RAW\n",
    "\n",
    "# Extract Infinium I annotated IDs\n",
    "InfI <- Illumina450Manifest_clean[Illumina450Manifest_clean$Infinium_Design_Type==\"I\",]\n",
    "InfI_IDs <- droplevels(InfI)\n",
    "# Cross-reference between InfI_IDs and raw beta\n",
    "beta_I <- beta[rownames(beta) %in% InfI_IDs$IlmnID,]\n",
    "# Computing mean and standard deviation\n",
    "beta_I_mean <- apply(beta_I,1, mean)\n",
    "beta_I_sd <- apply(beta_I, 1, sd)\n",
    "# Computing densities for plots\n",
    "beta_I_mean_d <- density(beta_I_mean, na.rm=T)\n",
    "beta_I_sd_d <- density(beta_I_sd, na.rm=T)\n",
    "\n",
    "# INFINIUM II DESIGN RAW\n",
    "\n",
    "# Extract Infinium I annotated IDs\n",
    "InfII <- Illumina450Manifest_clean[Illumina450Manifest_clean$Infinium_Design_Type==\"II\",]\n",
    "InfII_IDs <- droplevels(InfII)\n",
    "# Cross-reference between InfII_IDs and raw beta\n",
    "beta_II <- beta[rownames(beta) %in% InfII_IDs$IlmnID,]\n",
    "# Computing mean and standard deviation\n",
    "beta_II_mean <- apply(beta_II,1, mean)\n",
    "beta_II_sd <- apply(beta_II, 1, sd)\n",
    "# Computing densities for plots\n",
    "beta_II_mean_d <- density(beta_II_mean, na.rm=T)\n",
    "beta_II_sd_d <- density(beta_II_sd, na.rm=T)"
   ]
  },
  {
   "cell_type": "markdown",
   "id": "979d4722",
   "metadata": {},
   "source": [
    "Similarly, the normalized beta values as well are extracted via cross-reference, involving the overall dataset normalized beta values (variable normalized_beta) and as before, the annotation from the Illumina Manifest. "
   ]
  },
  {
   "cell_type": "code",
   "execution_count": null,
   "id": "16fc9ef7",
   "metadata": {},
   "outputs": [],
   "source": [
    "# INFINIUM I DESIGN NORMALIZED\n",
    "\n",
    "# Cross-reference between InfI_IDs and raw beta\n",
    "normal_beta_I <- normalized_beta[rownames(normalized_beta) %in% InfI_IDs$IlmnID,]\n",
    "# Computing mean and standard deviation\n",
    "normal_beta_I_mean <- apply(normal_beta_I,1, mean)\n",
    "normal_beta_I_sd <- apply(normal_beta_I, 1, sd)\n",
    "# Computing densities for plots\n",
    "normal_beta_I_mean_d <- density(normal_beta_I_mean, na.rm=T)\n",
    "normal_beta_I_sd_d <- density(normal_beta_I_sd, na.rm=T)\n",
    "\n",
    "# INFINIUM II DESIGN NORMALIZED\n",
    "\n",
    "# Cross-reference between InfII_IDs and raw beta\n",
    "normal_beta_II <- normalized_beta[rownames(normalized_beta) %in% InfII_IDs$IlmnID,]\n",
    "# Computing mean and standard deviation\n",
    "normal_beta_II_mean <- apply(normal_beta_II,1, mean)\n",
    "normal_beta_II_sd <- apply(normal_beta_II, 1, sd)\n",
    "# Computing densities for plots\n",
    "normal_beta_II_mean_d <- density(normal_beta_II_mean, na.rm=T)\n",
    "normal_beta_II_sd_d <- density(normal_beta_II_sd, na.rm=T)"
   ]
  },
  {
   "cell_type": "markdown",
   "id": "0a060da4",
   "metadata": {},
   "source": [
    "### Visualizing the effect of normalization\n",
    "For both raw and normalized data, the density plots of the beta mean values and beta standard deviation values according to the chemistry of the probes (InfI and InfII) are produced; moreover a boxplot is realized to better highlight the change in the distributions."
   ]
  },
  {
   "cell_type": "code",
   "execution_count": null,
   "id": "b89cdf59",
   "metadata": {},
   "outputs": [],
   "source": [
    "# Raw beta mean plot\n",
    "par(mfrow=c(3,2), pin = c(2,2))\n",
    "plot(beta_I_mean_d, col = \"green\", main = \"Mean Beta (raw)\", xlim=c(-0.1,1.1),ylim = c(-0.5,6))\n",
    "lines(beta_II_mean_d, col = \"orange\")\n",
    "legend(\"topright\", legend=c(\"InfI\", \"InfII\"),\n",
    "       col=c(\"green\", \"orange\"), lty=1:1, cex=0.9)\n",
    "# Normalized beta mean plot\n",
    "plot(normal_beta_I_mean_d,col=\"blue\",main=\" Mean Beta (normalized)\", xlim = c(-0.1,1.1), ylim = c(-0.5\n",
    "  ,6))\n",
    "lines(normal_beta_II_mean_d,col=\"red\")\n",
    "legend(\"topright\", legend=c(\"InfI\", \"InfII\"),\n",
    "       col=c(\"blue\", \"red\"), lty=1:1, cex=0.9)\n",
    "# Raw beta sd plot\n",
    "plot(beta_I_sd_d, col = \"green\", main = \"St.Dev Beta (raw)\", xlim = c(-0.05,0.45), ylim = c(-5,90))\n",
    "lines(beta_II_sd_d, col = \"orange\")\n",
    "legend(\"topright\", legend=c(\"InfI\", \"InfII\"),\n",
    "       col=c(\"green\", \"orange\"), lty=1:1, cex=0.9)\n",
    "# Normalized beta sd plot\n",
    "plot(normal_beta_I_sd_d,col=\"blue\",main=\"St.Dev Beta (normalized)\", xlim = c(-0.05,0.45), ylim = c(-5\n",
    "  ,90))\n",
    "lines(normal_beta_II_sd_d,col=\"red\")\n",
    "legend(\"topright\", legend=c(\"InfI\", \"InfII\"),\n",
    "       col=c(\"blue\", \"red\"), lty=1:1, cex=0.9)\n",
    "# Raw beta boxplot\n",
    "boxplot(beta,main=\"Raw beta\")\n",
    "# Normalized beta boxplot\n",
    "boxplot(normalized_beta, main = \"preprocessQuantile normalized beta\")\n",
    "\n",
    "## OPTIONAL:\n",
    "# WT slide arrays\n",
    "WT_group <- colnames(WT_beta)\n",
    "# MUT slide arrays\n",
    "MUT_group <- colnames(MUT_beta)\n",
    "# Vector color-mapping beta-values object columns to WT arrays and MUT arrays\n",
    "colors = c(\"pink\", \"cadetblue1\", \"pink\", \"pink\", \"cadetblue1\", \"cadetblue1\", \"pink\", \"cadetblue1\")\n",
    "# Raw data Plot\n",
    "boxplot(beta, col=colors, main=\"WT and MUT raw beta values\")\n",
    "legend(\"topright\", inset=c(-0.4,0), legend=c(\"MUT\", \"WT\"),\n",
    "       col=c(\"cadetblue1\", \"pink\"), lty=1:1, cex=0.9, xpd=TRUE)\n",
    "# Normalized data Plot\n",
    "boxplot(normalized_beta, col=colors, main=\"WT and MUT normalized beta values\")\n",
    "legend(\"topright\", inset=c(-0.4,0), legend=c(\"MUT\", \"WT\"),\n",
    "       col=c(\"cadetblue1\", \"pink\"), lty=1:1, cex=0.9, xpd=TRUE)"
   ]
  },
  {
   "attachments": {
    "Normalization.png": {
     "image/png": "[encoded data removed]"
    }
   },
   "cell_type": "markdown",
   "id": "e9cc4e44",
   "metadata": {},
   "source": [
    "### Plots\n",
    "\n",
    "![Normalization.png](attachment:Normalization.png)"
   ]
  },
  {
   "attachments": {
    "optional_normalization.png": {
     "image/png": "[encoded data removed]"
    }
   },
   "cell_type": "markdown",
   "id": "175465c3",
   "metadata": {},
   "source": [
    "It can be noticed that the normalization procedure has a major effect on Infinium I probes raw data, especially observing the peak at beta values near 0. The cause of this could be traced back to an intrinsic bias of the two probe designs: the Infinium II assay is known less sensitive to extreme methylation values (Dedeurwaeder et al, 2011), thus the density of its beta values is shifted towards the centre of the axis, in contrast to the Infinium I distribution that is more stretched (evident in the raw mean beta values plot).\n",
    "\n",
    "Is the quantile normalization, performed via preprocessQuantile(), appropriate for the dataset at hand? Quantile normalization is a global-adjustment method, it assumes the same statistical distribution for each sample. As evident from the plots produced at step 6, the two populations under analysis (wildtype and mutated), have approximatly the same distributions. The following boxplots make visually clear the normalization effect in relation to the two conditions.\n",
    "\n",
    "![optional_normalization.png](attachment:optional_normalization.png)\n",
    "\n",
    "To approach the choice of the appropriate normalization procedure, Bioconductor suggests the following heuristic: \n",
    "\"If there exist global biological methylation differences between your samples, as for instance a dataset with cancer and normal samples, or a dataset with different tissues/cell types, use the preprocessFunnorm function as it is aimed for such datasets. On the other hand, if you do not expect global differences between your samples, for instance a blood dataset, or one-tissue dataset, use the preprocessQuantile function. In our experience, these two normalization procedures perform always better than the functions preprocessRaw, preprocessIllumina and preprocessSWAN ...\" \n",
    "by Jean-Philippe Fortin, Kasper Daniel Hansen (http://bioconductor.org/help/course-materials/2015/BioC2015/methylation450k.html)"
   ]
  },
  {
   "cell_type": "markdown",
   "id": "4718a371",
   "metadata": {},
   "source": [
    "## Step 8. PCA\n",
    "\n",
    "The Principal Component Analysis (PCA) is a dimension-reduction technique used to detect low dimensional structures in high dimensional data. \n",
    "Briefly, it computes the principal components as estimates of common patterns across the features, thus significantly correlated features get reduced to a single component, and data from the multidimensional space are projected onto the space of principal components, that has fewer dimensions.\n",
    "\n",
    "The technique can be used to check for large differences in DNA methylation profiles in the analysed sample, due to biological causes or batch effects.\n",
    "Batch effects are sub-groups of measurements that have qualitatively different behaviour across conditions and are unrelated to the biological or scientific variables in a study. They need to be recognized and eliminated from the analysis, as they have a particularly strong and pervasive impact on results, both on low-dimensional and on high-throughput experiments.\n",
    "Since normalization doesn't always remove batch effects (Leek et al., 2010), PCA should still be applied on normalized data for diagnostic purposes.\n",
    "\n",
    "For a reference on how to recognize and treat batch effects, check Leek et al., 2010\n",
    "\n",
    "In R, the analysis is done by applying the function prcomp() to calculate the PCA of the normalized beta values of the dataset in study. \n",
    "The results can be inspected using the function fviz_eig(), that plots the amount of variation, i.e variance, per dimension.\n",
    "Finally the two components, accounting for most of the variation, are plotted for a batch effect diagnosis."
   ]
  },
  {
   "cell_type": "code",
   "execution_count": null,
   "id": "185437d0",
   "metadata": {},
   "outputs": [],
   "source": [
    "# Perform PCA and check results\n",
    "pca_results <- prcomp(t(normalized_beta),scale=T)\n",
    "print(summary(pca_results))\n",
    "\n",
    "# Extract and plot variances from PCA results\n",
    "library(factoextra)\n",
    "fviz_eig(pca_results, addlabels = TRUE, barfill = \"grey\", barcolor = \"black\")\n",
    "\n",
    "# Plot components x[,1] and x[,2]\n",
    "group <- factor(targets$Group)\n",
    "palette(c(\"red\", \"blue\"))\n",
    "plot(pca_results$x[,1], pca_results$x[,2],cex=2,pch=19, col=c(group),xlab=\"PC1\",ylab=\"PC2\", xlim = c(-700, 700), ylim = c(-700, 700))\n",
    "text(pca_results$x[,1], pca_results$x[,2],labels=rownames(pca_results$x),cex=0.6,pos=2)\n",
    "legend(\"topright\",legend=c(\"DS\",\"WT\"),col=c(\"red\",\"blue\"),pch=19)"
   ]
  },
  {
   "cell_type": "raw",
   "id": "680438b1",
   "metadata": {},
   "source": [
    "Importance of components:\n",
    "                           PC1      PC2      PC3      PC4       PC5       PC6       PC7       PC8\n",
    "Standard deviation     396.599 318.8536 280.7100 235.1666 203.88764 164.71119 154.11759 2.969e-12\n",
    "Proportion of Variance   0.324   0.2094   0.1623   0.1139   0.08562   0.05588   0.04892 0.000e+00\n",
    "Cumulative Proportion    0.324   0.5334   0.6957   0.8096   0.89520   0.95108   1.00000 1.000e+00"
   ]
  },
  {
   "attachments": {
    "PCA_screeplot.png": {
     "image/png": "[encoded data removed]"
    }
   },
   "cell_type": "markdown",
   "id": "c898217a",
   "metadata": {},
   "source": [
    "![PCA_screeplot.png](attachment:PCA_screeplot.png)"
   ]
  },
  {
   "attachments": {
    "PCA_PC1_PC2.png": {
     "image/png": "[encoded data removed]"
    }
   },
   "cell_type": "markdown",
   "id": "ae053dc4",
   "metadata": {},
   "source": [
    "![PCA_PC1_PC2.png](attachment:PCA_PC1_PC2.png)"
   ]
  },
  {
   "cell_type": "markdown",
   "id": "acddb54c",
   "metadata": {},
   "source": [
    "## Step 9. Identifying differentially methylated probes\n",
    "\n",
    "The differentially methylated probes between the two populations (WT and MUT) are identified by applying a statistical test (t-test, as assigned) to the normalized beta values obtained in step 7.\n",
    "\n",
    "The t-test is performed via the t.test() function on each row of the normalized beta values matrix. The output is a list with class \"htest\", containing the computed p-value, among other components."
   ]
  },
  {
   "cell_type": "code",
   "execution_count": null,
   "id": "da0f925c",
   "metadata": {},
   "outputs": [],
   "source": [
    "# Define a function to apply t.test() on each row\n",
    "t_test_function <- function(x) {\n",
    "    t_test <- t.test(x ~ targets$Group)\n",
    "        return(t_test$p.value)\n",
    "}\n",
    "\n",
    "# Compute p-value \n",
    "pValues_t <- apply(normalized_beta, 1, t_test_function)\n",
    "beta_pValues <- data.frame(normalized_beta, pValues_t)"
   ]
  },
  {
   "cell_type": "markdown",
   "id": "7744adf6",
   "metadata": {},
   "source": [
    "## Step 10. Multiple test correction\n",
    "\n",
    "Everytime an analysis involves multiple tests, the number of detected false positives (type I errors) increases proportionally to the number of tests if the cutoff for such errors (alpha) is not properly corrected. In other words, the probability of falsely rejecting the null hypothesis increases while performing multiple comparisons, thus for a reliable estimate of the significant results, we need to correct either the error cutoff (to be more stringent) or the tests' p-values (so not reach significance by chance).\n",
    "\n",
    "To overcome the problem for a given threshold (as 0.05), it is possible to apply correction methods to the tests' raw p-values already computed in step 9.\n",
    "Two of the most used methods are Bonferroni correction and Benjamini-Hochberg (BH) correction, applied in this analysis with the p.adjust() function."
   ]
  },
  {
   "cell_type": "code",
   "execution_count": null,
   "id": "ce831281",
   "metadata": {},
   "outputs": [],
   "source": [
    "# Significant results without correction\n",
    "raw_pValues <- beta_pValues[beta_pValues$pValues_t<=0.05,]\n",
    "\n",
    "# Applying Bonferroni\n",
    "Bonferroni_pValues <- p.adjust(beta_pValues$pValues_t, \"Bonferroni\")\n",
    "\n",
    "# Applying BH\n",
    "BH_pValues <- p.adjust(beta_pValues$pValues_t, \"BH\")\n",
    "\n",
    "# Comparison\n",
    "ttest_final <- data.frame(pValues_t, BH_pValues, Bonferroni_pValues)\n",
    "dim(raw_pValues)\n",
    "dim(ttest_final[ttest_final$Bonferroni_pValues<=0.05,])\n",
    "dim(ttest_final[ttest_final$BH_pValues<=0.05,])"
   ]
  },
  {
   "cell_type": "markdown",
   "id": "807f30f5",
   "metadata": {},
   "source": [
    "Without correction, for a threshold set at 0.05, 67180 results seem to be significant. \n",
    "After the BH correction, with the same threshold, 167 results are significant, and after Bonferroni correction, only 3. \n",
    "\n",
    "Below, a boxplot of the t-test results, to appreciate the effect of correction of different methods.\n",
    "It is evident that the Bonferroni method is the most stringent (applies FWER control) toward false positives, with the drawback of accepting a high rate of false negatives. It is appropriate whenever high confidence in all the genes under analysis is desired. Benjamini & Hochberg correction applies FDR-control, less stringent, thus appropriate if a proportion of false positives is tolerable."
   ]
  },
  {
   "cell_type": "code",
   "execution_count": null,
   "id": "721d70c7",
   "metadata": {},
   "outputs": [],
   "source": [
    "# Plot t-test final results\n",
    "par(mfrow=c(1,1))\n",
    "boxplot(ttest_final, ylim = c(-0.1, 1.1), col = c(\"red3\", \"seagreen3\", \"seashell2\"))\n",
    "legend(\"topright\", inset=c(-0.7,0), legend=c(\"raw\", \"BH\", \"Bonferroni\"),\n",
    "       col=c(\"red3\", \"seagreen3\", \"seashell2\"), lty=1:1, cex=0.9, xpd=TRUE)"
   ]
  },
  {
   "attachments": {
    "Step10_multiple_testing.png": {
     "image/png": "[encoded data removed]"
    }
   },
   "cell_type": "markdown",
   "id": "f76d7e60",
   "metadata": {},
   "source": [
    "![Step10_multiple_testing.png](attachment:Step10_multiple_testing.png)"
   ]
  },
  {
   "cell_type": "markdown",
   "id": "cdfa2a25",
   "metadata": {},
   "source": [
    "## Step 11. Volcano plot and Manhattan plot\n",
    "\n",
    "A volcano plot is a type of scatterplot that shows statistical significance (P value) versus magnitude of change (fold change).\n",
    "It is produced from the beta-values p-values and the difference between the mean of the normalized beta values of the two populations (WT and MUT)."
   ]
  },
  {
   "cell_type": "code",
   "execution_count": null,
   "id": "8a516252",
   "metadata": {},
   "outputs": [],
   "source": [
    "# WT group mean\n",
    "WT_group <- beta_pValues[,targets$Group==\"WT\"]\n",
    "WT_group_mean <- apply(WT_group, 1, mean)\n",
    "\n",
    "# MUT group mean\n",
    "MUT_group <- beta_pValues[,targets$Group==\"MUT\"]\n",
    "MUT_group_mean <- apply(MUT_group, 1, mean)\n",
    "\n",
    "# Compute delta\n",
    "delta <- WT_group_mean - MUT_group_mean\n",
    "\n",
    "# t-test p-values dataframe and highlight delta > 0.1\n",
    "VolcPlot <- data.frame(delta, -log10(ttest_final$pValues_t))\n",
    "Highlight <- VolcPlot[abs(VolcPlot[, 1])>0.1 & VolcPlot[, 2]>(-log10(0.05)),]\n",
    "\n",
    "# Volcano plot\n",
    "plot(VolcPlot[,1], VolcPlot[,2], pch=16, cex=0.3, ylab=\"p-Value (-log)\", xlab=\"Delta\",ylim = c(0, 8)) -log10(0.05)\n",
    "abline(a=-log10(0.05),b=0,col=\"yellow\")\n",
    "points(Highlight[,1], Highlight[,2],pch=16,cex=0.4,col=\"cyan\")"
   ]
  },
  {
   "attachments": {
    "Volcano_plot.png": {
     "image/png": "[encoded data removed]"
    }
   },
   "cell_type": "markdown",
   "id": "863a5993",
   "metadata": {},
   "source": [
    "![Volcano_plot.png](attachment:Volcano_plot.png)"
   ]
  },
  {
   "cell_type": "markdown",
   "id": "65134a4c",
   "metadata": {},
   "source": [
    "A Manhattan plot plots the association statistical significance as –log10(p-value) in the y-axis, against chromosomes in the x-axis.\n",
    "\n",
    "To produce it, it is first necessary to associate each CpG probe with its genomic position, with reference to the Illumina Manifest.\n",
    "After that, an input object containing informations about probe, chromosome, genomic position and p-value is created and provided in input to the manhattan() function."
   ]
  },
  {
   "attachments": {
    "Manhattan_plot.png": {
     "image/png": "[encoded data removed]"
    }
   },
   "cell_type": "markdown",
   "id": "4f67c2c4",
   "metadata": {},
   "source": [
    "![Manhattan_plot.png](attachment:Manhattan_plot.png)"
   ]
  },
  {
   "cell_type": "markdown",
   "id": "f9173484",
   "metadata": {},
   "source": [
    "## Step 12. Heatmap\n",
    "\n",
    "Heatmaps are graphical representation of data, where the individual values in matrix are represented as colors. The variation in color (either by hue or intensity) is related to the magnitude of the specific value.  \n",
    "Combined with hierarchical clustering methods, it makes evident possible patterns of similarity or diversity in the dataset.\n",
    "\n",
    "The procedure of hierarchical clustering involves an iterated process where distances between samples are evaluated as a distance matrix, such matrix is searched according to a choosen linkage method, a cluster is produced and the process repeats.\n",
    "As linkage method, it can be applied complete linkage, that involves joining clusters whose distance between further genes is the smallest; there is otherwise the single linkage, to join clusters whose distances between the closest genes is the smallest; finally, the average linkage, joining clusters whose average distance is the smallest.\n",
    "\n",
    "Three heatmaps have been produced, according to each linkage method presented. Genes exhibiting a similar methylation profile exhibits a similar color intensity in the maps. Below, it can be appreciated that entire clusters change from a methylated state (darker shade of red) in the wild-type (blue) to an unmethylated state (bright green) in the mutated (orange).\n",
    "Moreover, it noticeable that the methylation patterns are quite consistent across the different linkage methods."
   ]
  },
  {
   "cell_type": "code",
   "execution_count": null,
   "id": "dc2d76ca",
   "metadata": {},
   "outputs": [],
   "source": [
    "# Load gplots\n",
    "library(gplots)\n",
    "\n",
    "# Create input matrix of the top 100 differentially mehtylated probes\n",
    "beta_pValues_ordered <- beta_pValues[order(beta_pValues$pValues_t),]\n",
    "input_heatmap=as.matrix(beta_pValues_ordered[1:100,1:8])\n",
    "\n",
    "# Vector color-mapping to WT arrays and MUT arrays according to group membership\n",
    "colorbar <- c(\"blue\",\"orange\",\"blue\",\"blue\",\"orange\",\"orange\",\"blue\",\"orange\")\n",
    "\n",
    "# Palette of colors\n",
    "palette <- colorRampPalette(c(\"green\",\"black\",\"red\"))(100)\n",
    "\n",
    "# Complete linkage\n",
    "heatmap.2(input_heatmap,col=palette,Rowv=T,Colv=T,dendrogram=\"both\",key=T,ColSideColors=colorbar,density.info=\"none\",trace=\"none\",scale=\"none\",symm=F,main=\"Complete linkage\")"
   ]
  },
  {
   "attachments": {
    "heatmap_complete_linkage.png": {
     "image/png": "[encoded data removed]"
    }
   },
   "cell_type": "markdown",
   "id": "512d578c",
   "metadata": {},
   "source": [
    "![heatmap_complete_linkage.png](attachment:heatmap_complete_linkage.png)"
   ]
  },
  {
   "cell_type": "code",
   "execution_count": null,
   "id": "552804ba",
   "metadata": {},
   "outputs": [],
   "source": [
    "# Single linkage\n",
    "heatmap.2(input_heatmap,col=palette,Rowv=T,Colv=T,hclustfun = function(x) hclust(x,method = 'single'),dendrogram=\"both\",key=T,ColSideColors=colorbar,density.info=\"none\",trace=\"none\",scale=\"none\",symm=F,main=\"Single linkage\")"
   ]
  },
  {
   "attachments": {
    "heatmap_single_linkage.png": {
     "image/png": "[encoded data removed]"
    }
   },
   "cell_type": "markdown",
   "id": "8ce42deb",
   "metadata": {},
   "source": [
    "![heatmap_single_linkage.png](attachment:heatmap_single_linkage.png)"
   ]
  },
  {
   "cell_type": "code",
   "execution_count": null,
   "id": "b4592154",
   "metadata": {},
   "outputs": [],
   "source": [
    "# Average linkage\n",
    "heatmap.2(heatmap,col=palette,Rowv=T,Colv=T,hclustfun = function(x) hclust(x,method = 'average'),dendrogram=\"both\",key=T,ColSideColors=colorbar,density.info=\"none\",trace=\"none\",scale=\"none\",symm=F,main=\"Average linkage\")"
   ]
  },
  {
   "attachments": {
    "heatmap_average_linkage.png": {
     "image/png": "[encoded data removed]"
    }
   },
   "cell_type": "markdown",
   "id": "2784cfbd",
   "metadata": {},
   "source": [
    "![heatmap_average_linkage.png](attachment:heatmap_average_linkage.png)"
   ]
  }
 ],
 "metadata": {
  "kernelspec": {
   "display_name": "R",
   "language": "R",
   "name": "ir"
  },
  "language_info": {
   "codemirror_mode": "r",
   "file_extension": ".r",
   "mimetype": "text/x-r-source",
   "name": "R",
   "pygments_lexer": "r",
   "version": "3.6.1"
  }
 },
 "nbformat": 4,
 "nbformat_minor": 5
}
